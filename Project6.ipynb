{
 "cells": [
  {
   "cell_type": "code",
   "execution_count": 1,
   "id": "ecbed9a8",
   "metadata": {},
   "outputs": [],
   "source": [
    "import pandas as pd\n",
    "import seaborn as sns"
   ]
  },
  {
   "cell_type": "code",
   "execution_count": 2,
   "id": "b5314616",
   "metadata": {},
   "outputs": [],
   "source": [
    "df = pd.read_csv('udemy_courses.csv', parse_dates = ['published_timestamp'])"
   ]
  },
  {
   "cell_type": "code",
   "execution_count": 3,
   "id": "b9015237",
   "metadata": {},
   "outputs": [
    {
     "data": {
      "text/plain": [
       "course_id                            int64\n",
       "course_title                        object\n",
       "url                                 object\n",
       "is_paid                               bool\n",
       "price                                int64\n",
       "num_subscribers                      int64\n",
       "num_reviews                          int64\n",
       "num_lectures                         int64\n",
       "level                               object\n",
       "content_duration                   float64\n",
       "published_timestamp    datetime64[ns, UTC]\n",
       "subject                             object\n",
       "dtype: object"
      ]
     },
     "execution_count": 3,
     "metadata": {},
     "output_type": "execute_result"
    }
   ],
   "source": [
    "df.dtypes"
   ]
  },
  {
   "cell_type": "markdown",
   "id": "76adb213",
   "metadata": {},
   "source": [
    "#1. Display Top 10 Rows\n",
    "\n",
    "df.head(10)"
   ]
  },
  {
   "cell_type": "code",
   "execution_count": 9,
   "id": "b8a567d9",
   "metadata": {},
   "outputs": [
    {
     "data": {
      "text/html": [
       "<div>\n",
       "<style scoped>\n",
       "    .dataframe tbody tr th:only-of-type {\n",
       "        vertical-align: middle;\n",
       "    }\n",
       "\n",
       "    .dataframe tbody tr th {\n",
       "        vertical-align: top;\n",
       "    }\n",
       "\n",
       "    .dataframe thead th {\n",
       "        text-align: right;\n",
       "    }\n",
       "</style>\n",
       "<table border=\"1\" class=\"dataframe\">\n",
       "  <thead>\n",
       "    <tr style=\"text-align: right;\">\n",
       "      <th></th>\n",
       "      <th>course_id</th>\n",
       "      <th>course_title</th>\n",
       "      <th>url</th>\n",
       "      <th>is_paid</th>\n",
       "      <th>price</th>\n",
       "      <th>num_subscribers</th>\n",
       "      <th>num_reviews</th>\n",
       "      <th>num_lectures</th>\n",
       "      <th>level</th>\n",
       "      <th>content_duration</th>\n",
       "      <th>published_timestamp</th>\n",
       "      <th>subject</th>\n",
       "    </tr>\n",
       "  </thead>\n",
       "  <tbody>\n",
       "    <tr>\n",
       "      <th>3673</th>\n",
       "      <td>775618</td>\n",
       "      <td>Learn jQuery from Scratch - Master of JavaScri...</td>\n",
       "      <td>https://www.udemy.com/easy-jquery-for-beginner...</td>\n",
       "      <td>True</td>\n",
       "      <td>100</td>\n",
       "      <td>1040</td>\n",
       "      <td>14</td>\n",
       "      <td>21</td>\n",
       "      <td>All Levels</td>\n",
       "      <td>2.0</td>\n",
       "      <td>2016-06-14 17:36:46+00:00</td>\n",
       "      <td>Web Development</td>\n",
       "    </tr>\n",
       "    <tr>\n",
       "      <th>3674</th>\n",
       "      <td>1088178</td>\n",
       "      <td>How To Design A WordPress Website With No Codi...</td>\n",
       "      <td>https://www.udemy.com/how-to-make-a-wordpress-...</td>\n",
       "      <td>True</td>\n",
       "      <td>25</td>\n",
       "      <td>306</td>\n",
       "      <td>3</td>\n",
       "      <td>42</td>\n",
       "      <td>Beginner Level</td>\n",
       "      <td>3.5</td>\n",
       "      <td>2017-03-10 22:24:30+00:00</td>\n",
       "      <td>Web Development</td>\n",
       "    </tr>\n",
       "    <tr>\n",
       "      <th>3675</th>\n",
       "      <td>635248</td>\n",
       "      <td>Learn and Build using Polymer</td>\n",
       "      <td>https://www.udemy.com/learn-and-build-using-po...</td>\n",
       "      <td>True</td>\n",
       "      <td>40</td>\n",
       "      <td>513</td>\n",
       "      <td>169</td>\n",
       "      <td>48</td>\n",
       "      <td>All Levels</td>\n",
       "      <td>3.5</td>\n",
       "      <td>2015-12-30 16:41:42+00:00</td>\n",
       "      <td>Web Development</td>\n",
       "    </tr>\n",
       "    <tr>\n",
       "      <th>3676</th>\n",
       "      <td>905096</td>\n",
       "      <td>CSS Animations: Create Amazing Effects on Your...</td>\n",
       "      <td>https://www.udemy.com/css-animations-create-am...</td>\n",
       "      <td>True</td>\n",
       "      <td>50</td>\n",
       "      <td>300</td>\n",
       "      <td>31</td>\n",
       "      <td>38</td>\n",
       "      <td>All Levels</td>\n",
       "      <td>3.0</td>\n",
       "      <td>2016-08-11 19:06:15+00:00</td>\n",
       "      <td>Web Development</td>\n",
       "    </tr>\n",
       "    <tr>\n",
       "      <th>3677</th>\n",
       "      <td>297602</td>\n",
       "      <td>Using MODX CMS to Build Websites: A Beginner's...</td>\n",
       "      <td>https://www.udemy.com/using-modx-cms-to-build-...</td>\n",
       "      <td>True</td>\n",
       "      <td>45</td>\n",
       "      <td>901</td>\n",
       "      <td>36</td>\n",
       "      <td>20</td>\n",
       "      <td>Beginner Level</td>\n",
       "      <td>2.0</td>\n",
       "      <td>2014-09-28 19:51:11+00:00</td>\n",
       "      <td>Web Development</td>\n",
       "    </tr>\n",
       "  </tbody>\n",
       "</table>\n",
       "</div>"
      ],
      "text/plain": [
       "      course_id                                       course_title  \\\n",
       "3673     775618  Learn jQuery from Scratch - Master of JavaScri...   \n",
       "3674    1088178  How To Design A WordPress Website With No Codi...   \n",
       "3675     635248                      Learn and Build using Polymer   \n",
       "3676     905096  CSS Animations: Create Amazing Effects on Your...   \n",
       "3677     297602  Using MODX CMS to Build Websites: A Beginner's...   \n",
       "\n",
       "                                                    url  is_paid  price  \\\n",
       "3673  https://www.udemy.com/easy-jquery-for-beginner...     True    100   \n",
       "3674  https://www.udemy.com/how-to-make-a-wordpress-...     True     25   \n",
       "3675  https://www.udemy.com/learn-and-build-using-po...     True     40   \n",
       "3676  https://www.udemy.com/css-animations-create-am...     True     50   \n",
       "3677  https://www.udemy.com/using-modx-cms-to-build-...     True     45   \n",
       "\n",
       "      num_subscribers  num_reviews  num_lectures           level  \\\n",
       "3673             1040           14            21      All Levels   \n",
       "3674              306            3            42  Beginner Level   \n",
       "3675              513          169            48      All Levels   \n",
       "3676              300           31            38      All Levels   \n",
       "3677              901           36            20  Beginner Level   \n",
       "\n",
       "      content_duration       published_timestamp          subject  \n",
       "3673               2.0 2016-06-14 17:36:46+00:00  Web Development  \n",
       "3674               3.5 2017-03-10 22:24:30+00:00  Web Development  \n",
       "3675               3.5 2015-12-30 16:41:42+00:00  Web Development  \n",
       "3676               3.0 2016-08-11 19:06:15+00:00  Web Development  \n",
       "3677               2.0 2014-09-28 19:51:11+00:00  Web Development  "
      ]
     },
     "execution_count": 9,
     "metadata": {},
     "output_type": "execute_result"
    }
   ],
   "source": [
    "#2. Check Last % Rows\n",
    "\n",
    "df.tail()"
   ]
  },
  {
   "cell_type": "code",
   "execution_count": 10,
   "id": "3aaaf93d",
   "metadata": {},
   "outputs": [
    {
     "data": {
      "text/plain": [
       "(3678, 12)"
      ]
     },
     "execution_count": 10,
     "metadata": {},
     "output_type": "execute_result"
    }
   ],
   "source": [
    "#3. Find Shape Of Dataset\n",
    "\n",
    "df.shape"
   ]
  },
  {
   "cell_type": "code",
   "execution_count": 11,
   "id": "934bca2d",
   "metadata": {},
   "outputs": [
    {
     "name": "stdout",
     "output_type": "stream",
     "text": [
      "Number of Rows 3678\n",
      "Number of Columns 12\n"
     ]
    }
   ],
   "source": [
    "print(\"Number of Rows\", df.shape[0])\n",
    "print(\"Number of Columns\", df.shape[1])"
   ]
  },
  {
   "cell_type": "code",
   "execution_count": 12,
   "id": "2095ebd7",
   "metadata": {},
   "outputs": [
    {
     "name": "stdout",
     "output_type": "stream",
     "text": [
      "<class 'pandas.core.frame.DataFrame'>\n",
      "RangeIndex: 3678 entries, 0 to 3677\n",
      "Data columns (total 12 columns):\n",
      " #   Column               Non-Null Count  Dtype              \n",
      "---  ------               --------------  -----              \n",
      " 0   course_id            3678 non-null   int64              \n",
      " 1   course_title         3678 non-null   object             \n",
      " 2   url                  3678 non-null   object             \n",
      " 3   is_paid              3678 non-null   bool               \n",
      " 4   price                3678 non-null   int64              \n",
      " 5   num_subscribers      3678 non-null   int64              \n",
      " 6   num_reviews          3678 non-null   int64              \n",
      " 7   num_lectures         3678 non-null   int64              \n",
      " 8   level                3678 non-null   object             \n",
      " 9   content_duration     3678 non-null   float64            \n",
      " 10  published_timestamp  3678 non-null   datetime64[ns, UTC]\n",
      " 11  subject              3678 non-null   object             \n",
      "dtypes: bool(1), datetime64[ns, UTC](1), float64(1), int64(5), object(4)\n",
      "memory usage: 319.8+ KB\n"
     ]
    }
   ],
   "source": [
    "#4. Get Info Of Our Dataset\n",
    "\n",
    "df.info()"
   ]
  },
  {
   "cell_type": "code",
   "execution_count": 14,
   "id": "53990a14",
   "metadata": {},
   "outputs": [
    {
     "data": {
      "text/plain": [
       "course_id              0\n",
       "course_title           0\n",
       "url                    0\n",
       "is_paid                0\n",
       "price                  0\n",
       "num_subscribers        0\n",
       "num_reviews            0\n",
       "num_lectures           0\n",
       "level                  0\n",
       "content_duration       0\n",
       "published_timestamp    0\n",
       "subject                0\n",
       "dtype: int64"
      ]
     },
     "execution_count": 14,
     "metadata": {},
     "output_type": "execute_result"
    }
   ],
   "source": [
    "#5. Check For Null Values\n",
    "\n",
    "df.isnull().sum()"
   ]
  },
  {
   "cell_type": "code",
   "execution_count": 18,
   "id": "f879f15c",
   "metadata": {},
   "outputs": [
    {
     "data": {
      "text/plain": [
       "<AxesSubplot:>"
      ]
     },
     "execution_count": 18,
     "metadata": {},
     "output_type": "execute_result"
    },
    {
     "data": {
      "image/png": "[encoded data removed]",
      "text/plain": [
       "<Figure size 432x288 with 2 Axes>"
      ]
     },
     "metadata": {
      "needs_background": "light"
     },
     "output_type": "display_data"
    }
   ],
   "source": [
    "sns.heatmap(df.isnull())"
   ]
  },
  {
   "cell_type": "code",
   "execution_count": 17,
   "id": "61a85240",
   "metadata": {},
   "outputs": [
    {
     "data": {
      "text/html": [
       "<div>\n",
       "<style scoped>\n",
       "    .dataframe tbody tr th:only-of-type {\n",
       "        vertical-align: middle;\n",
       "    }\n",
       "\n",
       "    .dataframe tbody tr th {\n",
       "        vertical-align: top;\n",
       "    }\n",
       "\n",
       "    .dataframe thead th {\n",
       "        text-align: right;\n",
       "    }\n",
       "</style>\n",
       "<table border=\"1\" class=\"dataframe\">\n",
       "  <thead>\n",
       "    <tr style=\"text-align: right;\">\n",
       "      <th></th>\n",
       "      <th>course_id</th>\n",
       "      <th>course_title</th>\n",
       "      <th>url</th>\n",
       "      <th>is_paid</th>\n",
       "      <th>price</th>\n",
       "      <th>num_subscribers</th>\n",
       "      <th>num_reviews</th>\n",
       "      <th>num_lectures</th>\n",
       "      <th>level</th>\n",
       "      <th>content_duration</th>\n",
       "      <th>published_timestamp</th>\n",
       "      <th>subject</th>\n",
       "    </tr>\n",
       "  </thead>\n",
       "  <tbody>\n",
       "    <tr>\n",
       "      <th>787</th>\n",
       "      <td>837322</td>\n",
       "      <td>Essentials of money value: Get a financial Life !</td>\n",
       "      <td>https://www.udemy.com/essentials-of-money-value/</td>\n",
       "      <td>True</td>\n",
       "      <td>20</td>\n",
       "      <td>0</td>\n",
       "      <td>0</td>\n",
       "      <td>20</td>\n",
       "      <td>All Levels</td>\n",
       "      <td>0.616667</td>\n",
       "      <td>2016-05-16 18:28:30+00:00</td>\n",
       "      <td>Business Finance</td>\n",
       "    </tr>\n",
       "    <tr>\n",
       "      <th>788</th>\n",
       "      <td>1157298</td>\n",
       "      <td>Introduction to Forex Trading Business For Beg...</td>\n",
       "      <td>https://www.udemy.com/introduction-to-forex-tr...</td>\n",
       "      <td>True</td>\n",
       "      <td>20</td>\n",
       "      <td>0</td>\n",
       "      <td>0</td>\n",
       "      <td>27</td>\n",
       "      <td>Beginner Level</td>\n",
       "      <td>1.500000</td>\n",
       "      <td>2017-04-23 16:19:01+00:00</td>\n",
       "      <td>Business Finance</td>\n",
       "    </tr>\n",
       "    <tr>\n",
       "      <th>894</th>\n",
       "      <td>1035638</td>\n",
       "      <td>Understanding Financial Statements</td>\n",
       "      <td>https://www.udemy.com/understanding-financial-...</td>\n",
       "      <td>True</td>\n",
       "      <td>25</td>\n",
       "      <td>0</td>\n",
       "      <td>0</td>\n",
       "      <td>10</td>\n",
       "      <td>All Levels</td>\n",
       "      <td>1.000000</td>\n",
       "      <td>2016-12-15 14:56:17+00:00</td>\n",
       "      <td>Business Finance</td>\n",
       "    </tr>\n",
       "    <tr>\n",
       "      <th>1100</th>\n",
       "      <td>1084454</td>\n",
       "      <td>CFA Level 2- Quantitative Methods</td>\n",
       "      <td>https://www.udemy.com/cfa-level-2-quantitative...</td>\n",
       "      <td>True</td>\n",
       "      <td>40</td>\n",
       "      <td>0</td>\n",
       "      <td>0</td>\n",
       "      <td>35</td>\n",
       "      <td>All Levels</td>\n",
       "      <td>5.500000</td>\n",
       "      <td>2017-07-02 14:29:35+00:00</td>\n",
       "      <td>Business Finance</td>\n",
       "    </tr>\n",
       "    <tr>\n",
       "      <th>1473</th>\n",
       "      <td>185526</td>\n",
       "      <td>MicroStation - Células</td>\n",
       "      <td>https://www.udemy.com/microstation-celulas/</td>\n",
       "      <td>True</td>\n",
       "      <td>20</td>\n",
       "      <td>0</td>\n",
       "      <td>0</td>\n",
       "      <td>9</td>\n",
       "      <td>Beginner Level</td>\n",
       "      <td>0.616667</td>\n",
       "      <td>2014-04-15 21:48:55+00:00</td>\n",
       "      <td>Graphic Design</td>\n",
       "    </tr>\n",
       "    <tr>\n",
       "      <th>2561</th>\n",
       "      <td>28295</td>\n",
       "      <td>Learn Web Designing &amp; HTML5/CSS3 Essentials in...</td>\n",
       "      <td>https://www.udemy.com/build-beautiful-html5-we...</td>\n",
       "      <td>True</td>\n",
       "      <td>75</td>\n",
       "      <td>43285</td>\n",
       "      <td>525</td>\n",
       "      <td>24</td>\n",
       "      <td>All Levels</td>\n",
       "      <td>4.000000</td>\n",
       "      <td>2013-01-03 00:55:31+00:00</td>\n",
       "      <td>Web Development</td>\n",
       "    </tr>\n",
       "  </tbody>\n",
       "</table>\n",
       "</div>"
      ],
      "text/plain": [
       "      course_id                                       course_title  \\\n",
       "787      837322  Essentials of money value: Get a financial Life !   \n",
       "788     1157298  Introduction to Forex Trading Business For Beg...   \n",
       "894     1035638                 Understanding Financial Statements   \n",
       "1100    1084454                  CFA Level 2- Quantitative Methods   \n",
       "1473     185526                             MicroStation - Células   \n",
       "2561      28295  Learn Web Designing & HTML5/CSS3 Essentials in...   \n",
       "\n",
       "                                                    url  is_paid  price  \\\n",
       "787    https://www.udemy.com/essentials-of-money-value/     True     20   \n",
       "788   https://www.udemy.com/introduction-to-forex-tr...     True     20   \n",
       "894   https://www.udemy.com/understanding-financial-...     True     25   \n",
       "1100  https://www.udemy.com/cfa-level-2-quantitative...     True     40   \n",
       "1473        https://www.udemy.com/microstation-celulas/     True     20   \n",
       "2561  https://www.udemy.com/build-beautiful-html5-we...     True     75   \n",
       "\n",
       "      num_subscribers  num_reviews  num_lectures           level  \\\n",
       "787                 0            0            20      All Levels   \n",
       "788                 0            0            27  Beginner Level   \n",
       "894                 0            0            10      All Levels   \n",
       "1100                0            0            35      All Levels   \n",
       "1473                0            0             9  Beginner Level   \n",
       "2561            43285          525            24      All Levels   \n",
       "\n",
       "      content_duration       published_timestamp           subject  \n",
       "787           0.616667 2016-05-16 18:28:30+00:00  Business Finance  \n",
       "788           1.500000 2017-04-23 16:19:01+00:00  Business Finance  \n",
       "894           1.000000 2016-12-15 14:56:17+00:00  Business Finance  \n",
       "1100          5.500000 2017-07-02 14:29:35+00:00  Business Finance  \n",
       "1473          0.616667 2014-04-15 21:48:55+00:00    Graphic Design  \n",
       "2561          4.000000 2013-01-03 00:55:31+00:00   Web Development  "
      ]
     },
     "execution_count": 17,
     "metadata": {},
     "output_type": "execute_result"
    }
   ],
   "source": [
    "#6. Check For Duplicate\n",
    "\n",
    "df[df.duplicated()]"
   ]
  },
  {
   "cell_type": "code",
   "execution_count": 20,
   "id": "d6ab0897",
   "metadata": {},
   "outputs": [],
   "source": [
    "df = df.drop_duplicates()"
   ]
  },
  {
   "cell_type": "code",
   "execution_count": 22,
   "id": "793f5676",
   "metadata": {},
   "outputs": [
    {
     "data": {
      "text/html": [
       "<div>\n",
       "<style scoped>\n",
       "    .dataframe tbody tr th:only-of-type {\n",
       "        vertical-align: middle;\n",
       "    }\n",
       "\n",
       "    .dataframe tbody tr th {\n",
       "        vertical-align: top;\n",
       "    }\n",
       "\n",
       "    .dataframe thead th {\n",
       "        text-align: right;\n",
       "    }\n",
       "</style>\n",
       "<table border=\"1\" class=\"dataframe\">\n",
       "  <thead>\n",
       "    <tr style=\"text-align: right;\">\n",
       "      <th></th>\n",
       "      <th>course_id</th>\n",
       "      <th>course_title</th>\n",
       "      <th>url</th>\n",
       "      <th>is_paid</th>\n",
       "      <th>price</th>\n",
       "      <th>num_subscribers</th>\n",
       "      <th>num_reviews</th>\n",
       "      <th>num_lectures</th>\n",
       "      <th>level</th>\n",
       "      <th>content_duration</th>\n",
       "      <th>published_timestamp</th>\n",
       "      <th>subject</th>\n",
       "    </tr>\n",
       "  </thead>\n",
       "  <tbody>\n",
       "  </tbody>\n",
       "</table>\n",
       "</div>"
      ],
      "text/plain": [
       "Empty DataFrame\n",
       "Columns: [course_id, course_title, url, is_paid, price, num_subscribers, num_reviews, num_lectures, level, content_duration, published_timestamp, subject]\n",
       "Index: []"
      ]
     },
     "execution_count": 22,
     "metadata": {},
     "output_type": "execute_result"
    }
   ],
   "source": [
    "df[df.duplicated()]"
   ]
  },
  {
   "cell_type": "code",
   "execution_count": 23,
   "id": "5fa32ef5",
   "metadata": {},
   "outputs": [
    {
     "data": {
      "text/plain": [
       "Index(['course_id', 'course_title', 'url', 'is_paid', 'price',\n",
       "       'num_subscribers', 'num_reviews', 'num_lectures', 'level',\n",
       "       'content_duration', 'published_timestamp', 'subject'],\n",
       "      dtype='object')"
      ]
     },
     "execution_count": 23,
     "metadata": {},
     "output_type": "execute_result"
    }
   ],
   "source": [
    "#7. Find Out Number Of Courses Per Subjects\n",
    "\n",
    "df.columns"
   ]
  },
  {
   "cell_type": "code",
   "execution_count": 25,
   "id": "52941c67",
   "metadata": {},
   "outputs": [
    {
     "data": {
      "text/plain": [
       "Web Development        1199\n",
       "Business Finance       1191\n",
       "Musical Instruments     680\n",
       "Graphic Design          602\n",
       "Name: subject, dtype: int64"
      ]
     },
     "execution_count": 25,
     "metadata": {},
     "output_type": "execute_result"
    }
   ],
   "source": [
    "df['subject'].value_counts()"
   ]
  },
  {
   "cell_type": "code",
   "execution_count": 7,
   "id": "af02521a",
   "metadata": {},
   "outputs": [],
   "source": [
    "import matplotlib.pyplot as plt"
   ]
  },
  {
   "cell_type": "code",
   "execution_count": 31,
   "id": "1702ef04",
   "metadata": {},
   "outputs": [
    {
     "name": "stderr",
     "output_type": "stream",
     "text": [
      "C:\\Users\\pc\\anaconda3\\lib\\site-packages\\seaborn\\_decorators.py:36: FutureWarning: Pass the following variable as a keyword arg: x. From version 0.12, the only valid positional argument will be `data`, and passing other arguments without an explicit keyword will result in an error or misinterpretation.\n",
      "  warnings.warn(\n"
     ]
    },
    {
     "data": {
      "image/png": "[encoded data removed]",
      "text/plain": [
       "<Figure size 432x288 with 1 Axes>"
      ]
     },
     "metadata": {
      "needs_background": "light"
     },
     "output_type": "display_data"
    }
   ],
   "source": [
    "sns.countplot(df['subject'])\n",
    "plt.xlabel(\"Subjects\", fontsize = 13)\n",
    "plt.ylabel(\"Number Of Courses Per Subject\", fontsize = 13)\n",
    "plt.xticks(rotation = 65)\n",
    "plt.show()"
   ]
  },
  {
   "cell_type": "code",
   "execution_count": 32,
   "id": "f37423ec",
   "metadata": {},
   "outputs": [
    {
     "data": {
      "text/plain": [
       "Index(['course_id', 'course_title', 'url', 'is_paid', 'price',\n",
       "       'num_subscribers', 'num_reviews', 'num_lectures', 'level',\n",
       "       'content_duration', 'published_timestamp', 'subject'],\n",
       "      dtype='object')"
      ]
     },
     "execution_count": 32,
     "metadata": {},
     "output_type": "execute_result"
    }
   ],
   "source": [
    "#8. For Which Levels Was Udemy Courses Providing The Courses\n",
    "\n",
    "df.columns"
   ]
  },
  {
   "cell_type": "code",
   "execution_count": 34,
   "id": "188c3430",
   "metadata": {},
   "outputs": [
    {
     "data": {
      "text/plain": [
       "All Levels            1925\n",
       "Beginner Level        1268\n",
       "Intermediate Level     421\n",
       "Expert Level            58\n",
       "Name: level, dtype: int64"
      ]
     },
     "execution_count": 34,
     "metadata": {},
     "output_type": "execute_result"
    }
   ],
   "source": [
    "df['level'].value_counts()"
   ]
  },
  {
   "cell_type": "code",
   "execution_count": 35,
   "id": "7eab50bd",
   "metadata": {},
   "outputs": [
    {
     "name": "stderr",
     "output_type": "stream",
     "text": [
      "C:\\Users\\pc\\anaconda3\\lib\\site-packages\\seaborn\\_decorators.py:36: FutureWarning: Pass the following variable as a keyword arg: x. From version 0.12, the only valid positional argument will be `data`, and passing other arguments without an explicit keyword will result in an error or misinterpretation.\n",
      "  warnings.warn(\n"
     ]
    },
    {
     "data": {
      "image/png": "[encoded data removed]",
      "text/plain": [
       "<Figure size 432x288 with 1 Axes>"
      ]
     },
     "metadata": {
      "needs_background": "light"
     },
     "output_type": "display_data"
    }
   ],
   "source": [
    "sns.countplot(df['level'])\n",
    "plt.xlabel('Levels', fontsize = 13)\n",
    "plt.ylabel(\"Number Of Courses Per level\", fontsize = 13)\n",
    "plt.xticks(rotation = 65)\n",
    "plt.show()"
   ]
  },
  {
   "cell_type": "code",
   "execution_count": 36,
   "id": "aacc1cb4",
   "metadata": {},
   "outputs": [
    {
     "data": {
      "text/plain": [
       "Index(['course_id', 'course_title', 'url', 'is_paid', 'price',\n",
       "       'num_subscribers', 'num_reviews', 'num_lectures', 'level',\n",
       "       'content_duration', 'published_timestamp', 'subject'],\n",
       "      dtype='object')"
      ]
     },
     "execution_count": 36,
     "metadata": {},
     "output_type": "execute_result"
    }
   ],
   "source": [
    "#9. Display Count Of Paid Courses And Free Courses\n",
    "\n",
    "df.columns"
   ]
  },
  {
   "cell_type": "code",
   "execution_count": 38,
   "id": "d0d5b25d",
   "metadata": {},
   "outputs": [
    {
     "data": {
      "text/plain": [
       "True     3362\n",
       "False     310\n",
       "Name: is_paid, dtype: int64"
      ]
     },
     "execution_count": 38,
     "metadata": {},
     "output_type": "execute_result"
    }
   ],
   "source": [
    "df['is_paid'].value_counts()"
   ]
  },
  {
   "cell_type": "code",
   "execution_count": 39,
   "id": "36518a9a",
   "metadata": {},
   "outputs": [
    {
     "name": "stderr",
     "output_type": "stream",
     "text": [
      "C:\\Users\\pc\\anaconda3\\lib\\site-packages\\seaborn\\_decorators.py:36: FutureWarning: Pass the following variable as a keyword arg: x. From version 0.12, the only valid positional argument will be `data`, and passing other arguments without an explicit keyword will result in an error or misinterpretation.\n",
      "  warnings.warn(\n"
     ]
    },
    {
     "data": {
      "image/png": "[encoded data removed]",
      "text/plain": [
       "<Figure size 432x288 with 1 Axes>"
      ]
     },
     "metadata": {
      "needs_background": "light"
     },
     "output_type": "display_data"
    }
   ],
   "source": [
    "sns.countplot(df['is_paid'])\n",
    "plt.xlabel('Levels', fontsize = 13)\n",
    "plt.ylabel(\"Number Of Free And Paid Courses\", fontsize = 13)\n",
    "plt.xticks(rotation = 65)\n",
    "plt.show()"
   ]
  },
  {
   "cell_type": "code",
   "execution_count": 40,
   "id": "4147953e",
   "metadata": {},
   "outputs": [
    {
     "data": {
      "text/plain": [
       "Index(['course_id', 'course_title', 'url', 'is_paid', 'price',\n",
       "       'num_subscribers', 'num_reviews', 'num_lectures', 'level',\n",
       "       'content_duration', 'published_timestamp', 'subject'],\n",
       "      dtype='object')"
      ]
     },
     "execution_count": 40,
     "metadata": {},
     "output_type": "execute_result"
    }
   ],
   "source": [
    "#10. Which course has more lectures(Free or Paid)\n",
    "\n",
    "df.columns"
   ]
  },
  {
   "cell_type": "code",
   "execution_count": 41,
   "id": "ecc28a20",
   "metadata": {},
   "outputs": [
    {
     "data": {
      "text/html": [
       "<div>\n",
       "<style scoped>\n",
       "    .dataframe tbody tr th:only-of-type {\n",
       "        vertical-align: middle;\n",
       "    }\n",
       "\n",
       "    .dataframe tbody tr th {\n",
       "        vertical-align: top;\n",
       "    }\n",
       "\n",
       "    .dataframe thead th {\n",
       "        text-align: right;\n",
       "    }\n",
       "</style>\n",
       "<table border=\"1\" class=\"dataframe\">\n",
       "  <thead>\n",
       "    <tr style=\"text-align: right;\">\n",
       "      <th></th>\n",
       "      <th>course_id</th>\n",
       "      <th>price</th>\n",
       "      <th>num_subscribers</th>\n",
       "      <th>num_reviews</th>\n",
       "      <th>num_lectures</th>\n",
       "      <th>content_duration</th>\n",
       "    </tr>\n",
       "    <tr>\n",
       "      <th>is_paid</th>\n",
       "      <th></th>\n",
       "      <th></th>\n",
       "      <th></th>\n",
       "      <th></th>\n",
       "      <th></th>\n",
       "      <th></th>\n",
       "    </tr>\n",
       "  </thead>\n",
       "  <tbody>\n",
       "    <tr>\n",
       "      <th>False</th>\n",
       "      <td>691446.970968</td>\n",
       "      <td>0.000000</td>\n",
       "      <td>11533.951613</td>\n",
       "      <td>425.929032</td>\n",
       "      <td>21.416129</td>\n",
       "      <td>2.210753</td>\n",
       "    </tr>\n",
       "    <tr>\n",
       "      <th>True</th>\n",
       "      <td>674463.946163</td>\n",
       "      <td>72.198096</td>\n",
       "      <td>2421.270077</td>\n",
       "      <td>131.516359</td>\n",
       "      <td>41.866746</td>\n",
       "      <td>4.271584</td>\n",
       "    </tr>\n",
       "  </tbody>\n",
       "</table>\n",
       "</div>"
      ],
      "text/plain": [
       "             course_id      price  num_subscribers  num_reviews  num_lectures  \\\n",
       "is_paid                                                                         \n",
       "False    691446.970968   0.000000     11533.951613   425.929032     21.416129   \n",
       "True     674463.946163  72.198096      2421.270077   131.516359     41.866746   \n",
       "\n",
       "         content_duration  \n",
       "is_paid                    \n",
       "False            2.210753  \n",
       "True             4.271584  "
      ]
     },
     "execution_count": 41,
     "metadata": {},
     "output_type": "execute_result"
    }
   ],
   "source": [
    "df.groupby(['is_paid']).mean()"
   ]
  },
  {
   "cell_type": "code",
   "execution_count": 42,
   "id": "c394c763",
   "metadata": {},
   "outputs": [
    {
     "data": {
      "text/html": [
       "<div>\n",
       "<style scoped>\n",
       "    .dataframe tbody tr th:only-of-type {\n",
       "        vertical-align: middle;\n",
       "    }\n",
       "\n",
       "    .dataframe tbody tr th {\n",
       "        vertical-align: top;\n",
       "    }\n",
       "\n",
       "    .dataframe thead th {\n",
       "        text-align: right;\n",
       "    }\n",
       "</style>\n",
       "<table border=\"1\" class=\"dataframe\">\n",
       "  <thead>\n",
       "    <tr style=\"text-align: right;\">\n",
       "      <th></th>\n",
       "      <th>course_id</th>\n",
       "      <th>price</th>\n",
       "      <th>num_subscribers</th>\n",
       "      <th>num_reviews</th>\n",
       "      <th>num_lectures</th>\n",
       "      <th>content_duration</th>\n",
       "    </tr>\n",
       "    <tr>\n",
       "      <th>is_paid</th>\n",
       "      <th></th>\n",
       "      <th></th>\n",
       "      <th></th>\n",
       "      <th></th>\n",
       "      <th></th>\n",
       "      <th></th>\n",
       "    </tr>\n",
       "  </thead>\n",
       "  <tbody>\n",
       "    <tr>\n",
       "      <th>False</th>\n",
       "      <td>691446.970968</td>\n",
       "      <td>0.000000</td>\n",
       "      <td>11533.951613</td>\n",
       "      <td>425.929032</td>\n",
       "      <td>21.416129</td>\n",
       "      <td>2.210753</td>\n",
       "    </tr>\n",
       "    <tr>\n",
       "      <th>True</th>\n",
       "      <td>674463.946163</td>\n",
       "      <td>72.198096</td>\n",
       "      <td>2421.270077</td>\n",
       "      <td>131.516359</td>\n",
       "      <td>41.866746</td>\n",
       "      <td>4.271584</td>\n",
       "    </tr>\n",
       "  </tbody>\n",
       "</table>\n",
       "</div>"
      ],
      "text/plain": [
       "             course_id      price  num_subscribers  num_reviews  num_lectures  \\\n",
       "is_paid                                                                         \n",
       "False    691446.970968   0.000000     11533.951613   425.929032     21.416129   \n",
       "True     674463.946163  72.198096      2421.270077   131.516359     41.866746   \n",
       "\n",
       "         content_duration  \n",
       "is_paid                    \n",
       "False            2.210753  \n",
       "True             4.271584  "
      ]
     },
     "execution_count": 42,
     "metadata": {},
     "output_type": "execute_result"
    }
   ],
   "source": [
    "#11. Which Courses Have A Higher Number Of Subscribers Free Or Paid\n",
    "\n",
    "df.groupby(['is_paid']).mean()"
   ]
  },
  {
   "cell_type": "code",
   "execution_count": 44,
   "id": "bd94f1ad",
   "metadata": {},
   "outputs": [
    {
     "data": {
      "text/plain": [
       "<AxesSubplot:xlabel='is_paid', ylabel='num_subscribers'>"
      ]
     },
     "execution_count": 44,
     "metadata": {},
     "output_type": "execute_result"
    },
    {
     "data": {
      "image/png": "[encoded data removed]",
      "text/plain": [
       "<Figure size 432x288 with 1 Axes>"
      ]
     },
     "metadata": {
      "needs_background": "light"
     },
     "output_type": "display_data"
    }
   ],
   "source": [
    "sns.barplot(x = 'is_paid', y = 'num_subscribers', data = df)"
   ]
  },
  {
   "cell_type": "code",
   "execution_count": 45,
   "id": "aacfc305",
   "metadata": {},
   "outputs": [
    {
     "data": {
      "text/plain": [
       "Index(['course_id', 'course_title', 'url', 'is_paid', 'price',\n",
       "       'num_subscribers', 'num_reviews', 'num_lectures', 'level',\n",
       "       'content_duration', 'published_timestamp', 'subject'],\n",
       "      dtype='object')"
      ]
     },
     "execution_count": 45,
     "metadata": {},
     "output_type": "execute_result"
    }
   ],
   "source": [
    "#12. Which Level Has The Highest Number Of Subscribers\n",
    "\n",
    "df.columns"
   ]
  },
  {
   "cell_type": "code",
   "execution_count": 48,
   "id": "1f25ab03",
   "metadata": {},
   "outputs": [
    {
     "data": {
      "image/png": "[encoded data removed]",
      "text/plain": [
       "<Figure size 432x288 with 1 Axes>"
      ]
     },
     "metadata": {
      "needs_background": "light"
     },
     "output_type": "display_data"
    }
   ],
   "source": [
    "sns.barplot(x = 'level', y = 'num_subscribers', data = df)\n",
    "plt.xticks(rotation = 60)\n",
    "plt.show()"
   ]
  },
  {
   "cell_type": "code",
   "execution_count": 55,
   "id": "7685f5e8",
   "metadata": {},
   "outputs": [
    {
     "data": {
      "text/plain": [
       "2827    Learn HTML5 Programming From Scratch\n",
       "Name: course_title, dtype: object"
      ]
     },
     "execution_count": 55,
     "metadata": {},
     "output_type": "execute_result"
    }
   ],
   "source": [
    "#13. Find Most Popular Course Title\n",
    "\n",
    "df[df['num_subscribers'].max() == df['num_subscribers']]['course_title']"
   ]
  },
  {
   "cell_type": "code",
   "execution_count": 60,
   "id": "e68b9c7d",
   "metadata": {},
   "outputs": [],
   "source": [
    "#14. Display 10 Most Popular Courses As Per Num Of Subscribers\n",
    "\n",
    "top_10 = df.sort_values(by = 'num_subscribers', ascending = False).head(10)"
   ]
  },
  {
   "cell_type": "code",
   "execution_count": 61,
   "id": "f6d71299",
   "metadata": {},
   "outputs": [
    {
     "data": {
      "text/plain": [
       "<AxesSubplot:xlabel='num_subscribers', ylabel='course_title'>"
      ]
     },
     "execution_count": 61,
     "metadata": {},
     "output_type": "execute_result"
    },
    {
     "data": {
      "image/png": "[encoded data removed]",
      "text/plain": [
       "<Figure size 432x288 with 1 Axes>"
      ]
     },
     "metadata": {
      "needs_background": "light"
     },
     "output_type": "display_data"
    }
   ],
   "source": [
    "sns.barplot(x = 'num_subscribers', y = 'course_title', data = top_10)"
   ]
  },
  {
   "cell_type": "code",
   "execution_count": 4,
   "id": "877ea36e",
   "metadata": {},
   "outputs": [
    {
     "data": {
      "text/plain": [
       "Index(['course_id', 'course_title', 'url', 'is_paid', 'price',\n",
       "       'num_subscribers', 'num_reviews', 'num_lectures', 'level',\n",
       "       'content_duration', 'published_timestamp', 'subject'],\n",
       "      dtype='object')"
      ]
     },
     "execution_count": 4,
     "metadata": {},
     "output_type": "execute_result"
    }
   ],
   "source": [
    "#15. Find The Course Which Is Having The Highest Number Of Reviews\n",
    "\n",
    "df.columns"
   ]
  },
  {
   "cell_type": "code",
   "execution_count": 8,
   "id": "b9749630",
   "metadata": {},
   "outputs": [
    {
     "data": {
      "text/plain": [
       "<AxesSubplot:xlabel='subject', ylabel='num_reviews'>"
      ]
     },
     "execution_count": 8,
     "metadata": {},
     "output_type": "execute_result"
    },
    {
     "data": {
      "image/png": "[encoded data removed]",
      "text/plain": [
       "<Figure size 720x288 with 1 Axes>"
      ]
     },
     "metadata": {
      "needs_background": "light"
     },
     "output_type": "display_data"
    }
   ],
   "source": [
    "plt.figure(figsize = (10, 4))\n",
    "sns.barplot(x = 'subject', y = 'num_reviews', data = df)"
   ]
  },
  {
   "cell_type": "code",
   "execution_count": 9,
   "id": "693c327a",
   "metadata": {},
   "outputs": [
    {
     "data": {
      "text/plain": [
       "Index(['course_id', 'course_title', 'url', 'is_paid', 'price',\n",
       "       'num_subscribers', 'num_reviews', 'num_lectures', 'level',\n",
       "       'content_duration', 'published_timestamp', 'subject'],\n",
       "      dtype='object')"
      ]
     },
     "execution_count": 9,
     "metadata": {},
     "output_type": "execute_result"
    }
   ],
   "source": [
    "#16. Does Price Affect The Number Of Reviews\n",
    "\n",
    "df.columns"
   ]
  },
  {
   "cell_type": "code",
   "execution_count": 12,
   "id": "e6718a0b",
   "metadata": {},
   "outputs": [
    {
     "data": {
      "text/plain": [
       "<AxesSubplot:xlabel='price', ylabel='num_reviews'>"
      ]
     },
     "execution_count": 12,
     "metadata": {},
     "output_type": "execute_result"
    },
    {
     "data": {
      "image/png": "[encoded data removed]",
      "text/plain": [
       "<Figure size 1080x432 with 1 Axes>"
      ]
     },
     "metadata": {
      "needs_background": "light"
     },
     "output_type": "display_data"
    }
   ],
   "source": [
    "plt.figure(figsize = (15, 6))\n",
    "sns.scatterplot(x = 'price', y = 'num_reviews', data = df)"
   ]
  },
  {
   "cell_type": "code",
   "execution_count": 13,
   "id": "3be2f3f7",
   "metadata": {},
   "outputs": [
    {
     "data": {
      "text/plain": [
       "Index(['course_id', 'course_title', 'url', 'is_paid', 'price',\n",
       "       'num_subscribers', 'num_reviews', 'num_lectures', 'level',\n",
       "       'content_duration', 'published_timestamp', 'subject'],\n",
       "      dtype='object')"
      ]
     },
     "execution_count": 13,
     "metadata": {},
     "output_type": "execute_result"
    }
   ],
   "source": [
    "#17. Find Total Number Of Courses Related To Python\n",
    "\n",
    "df.columns"
   ]
  },
  {
   "cell_type": "code",
   "execution_count": 16,
   "id": "e3dda4ad",
   "metadata": {},
   "outputs": [
    {
     "data": {
      "text/plain": [
       "29"
      ]
     },
     "execution_count": 16,
     "metadata": {},
     "output_type": "execute_result"
    }
   ],
   "source": [
    "len(df[df['course_title'].str.contains('python', case = False)])"
   ]
  },
  {
   "cell_type": "code",
   "execution_count": 22,
   "id": "cca87040",
   "metadata": {},
   "outputs": [],
   "source": [
    "#18. Display 10 Most Popular Python Courses As Per Number Of Subscribers\n",
    "\n",
    "python = df[df['course_title'].str.contains('python', case = False)].sort_values(by = 'num_subscribers', ascending = False).head(10)"
   ]
  },
  {
   "cell_type": "code",
   "execution_count": 23,
   "id": "17d778c9",
   "metadata": {},
   "outputs": [
    {
     "data": {
      "text/plain": [
       "<AxesSubplot:xlabel='num_subscribers', ylabel='course_title'>"
      ]
     },
     "execution_count": 23,
     "metadata": {},
     "output_type": "execute_result"
    },
    {
     "data": {
      "image/png": "[encoded data removed]",
      "text/plain": [
       "<Figure size 432x288 with 1 Axes>"
      ]
     },
     "metadata": {
      "needs_background": "light"
     },
     "output_type": "display_data"
    }
   ],
   "source": [
    "sns.barplot(x = 'num_subscribers', y = 'course_title', data = python)"
   ]
  },
  {
   "cell_type": "code",
   "execution_count": 24,
   "id": "0bfc53a1",
   "metadata": {},
   "outputs": [
    {
     "data": {
      "text/plain": [
       "Index(['course_id', 'course_title', 'url', 'is_paid', 'price',\n",
       "       'num_subscribers', 'num_reviews', 'num_lectures', 'level',\n",
       "       'content_duration', 'published_timestamp', 'subject'],\n",
       "      dtype='object')"
      ]
     },
     "execution_count": 24,
     "metadata": {},
     "output_type": "execute_result"
    }
   ],
   "source": [
    "#19. In Which Year Were The Highest Number Of Courses Posted\n",
    "\n",
    "df.columns"
   ]
  },
  {
   "cell_type": "code",
   "execution_count": 26,
   "id": "6d54f2e0",
   "metadata": {},
   "outputs": [],
   "source": [
    "df['Year'] = df['published_timestamp'].dt.year"
   ]
  },
  {
   "cell_type": "code",
   "execution_count": 27,
   "id": "01f3bf60",
   "metadata": {},
   "outputs": [
    {
     "data": {
      "text/html": [
       "<div>\n",
       "<style scoped>\n",
       "    .dataframe tbody tr th:only-of-type {\n",
       "        vertical-align: middle;\n",
       "    }\n",
       "\n",
       "    .dataframe tbody tr th {\n",
       "        vertical-align: top;\n",
       "    }\n",
       "\n",
       "    .dataframe thead th {\n",
       "        text-align: right;\n",
       "    }\n",
       "</style>\n",
       "<table border=\"1\" class=\"dataframe\">\n",
       "  <thead>\n",
       "    <tr style=\"text-align: right;\">\n",
       "      <th></th>\n",
       "      <th>course_id</th>\n",
       "      <th>course_title</th>\n",
       "      <th>url</th>\n",
       "      <th>is_paid</th>\n",
       "      <th>price</th>\n",
       "      <th>num_subscribers</th>\n",
       "      <th>num_reviews</th>\n",
       "      <th>num_lectures</th>\n",
       "      <th>level</th>\n",
       "      <th>content_duration</th>\n",
       "      <th>published_timestamp</th>\n",
       "      <th>subject</th>\n",
       "      <th>Year</th>\n",
       "    </tr>\n",
       "  </thead>\n",
       "  <tbody>\n",
       "    <tr>\n",
       "      <th>0</th>\n",
       "      <td>1070968</td>\n",
       "      <td>Ultimate Investment Banking Course</td>\n",
       "      <td>https://www.udemy.com/ultimate-investment-bank...</td>\n",
       "      <td>True</td>\n",
       "      <td>200</td>\n",
       "      <td>2147</td>\n",
       "      <td>23</td>\n",
       "      <td>51</td>\n",
       "      <td>All Levels</td>\n",
       "      <td>1.5</td>\n",
       "      <td>2017-01-18 20:58:58+00:00</td>\n",
       "      <td>Business Finance</td>\n",
       "      <td>2017</td>\n",
       "    </tr>\n",
       "  </tbody>\n",
       "</table>\n",
       "</div>"
      ],
      "text/plain": [
       "   course_id                        course_title  \\\n",
       "0    1070968  Ultimate Investment Banking Course   \n",
       "\n",
       "                                                 url  is_paid  price  \\\n",
       "0  https://www.udemy.com/ultimate-investment-bank...     True    200   \n",
       "\n",
       "   num_subscribers  num_reviews  num_lectures       level  content_duration  \\\n",
       "0             2147           23            51  All Levels               1.5   \n",
       "\n",
       "        published_timestamp           subject  Year  \n",
       "0 2017-01-18 20:58:58+00:00  Business Finance  2017  "
      ]
     },
     "execution_count": 27,
     "metadata": {},
     "output_type": "execute_result"
    }
   ],
   "source": [
    "df.head(1)"
   ]
  },
  {
   "cell_type": "code",
   "execution_count": 28,
   "id": "498b8316",
   "metadata": {},
   "outputs": [
    {
     "data": {
      "text/plain": [
       "<AxesSubplot:xlabel='Year', ylabel='count'>"
      ]
     },
     "execution_count": 28,
     "metadata": {},
     "output_type": "execute_result"
    },
    {
     "data": {
      "image/png": "[encoded data removed]",
      "text/plain": [
       "<Figure size 432x288 with 1 Axes>"
      ]
     },
     "metadata": {
      "needs_background": "light"
     },
     "output_type": "display_data"
    }
   ],
   "source": [
    "sns.countplot(x = 'Year', data = df)"
   ]
  },
  {
   "cell_type": "code",
   "execution_count": null,
   "id": "117dc9bd",
   "metadata": {},
   "outputs": [],
   "source": [
    "#20. Display Category Wise Count Of Posted Subjects(Year Wise)\n",
    "\n"
   ]
  }
 ],
 "metadata": {
  "kernelspec": {
   "display_name": "Python 3 (ipykernel)",
   "language": "python",
   "name": "python3"
  },
  "language_info": {
   "codemirror_mode": {
    "name": "ipython",
    "version": 3
   },
   "file_extension": ".py",
   "mimetype": "text/x-python",
   "name": "python",
   "nbconvert_exporter": "python",
   "pygments_lexer": "ipython3",
   "version": "3.9.12"
  }
 },
 "nbformat": 4,
 "nbformat_minor": 5
}
